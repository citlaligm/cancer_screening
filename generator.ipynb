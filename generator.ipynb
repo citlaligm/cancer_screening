{
 "cells": [
  {
   "cell_type": "code",
   "execution_count": 1,
   "metadata": {
    "collapsed": true,
    "deletable": true,
    "editable": true
   },
   "outputs": [],
   "source": [
    "import cv2\n",
    "import numpy as np\n",
    "import pandas as pd\n",
    "from matplotlib import pyplot as plt\n",
    "import matplotlib.image as mpimg\n",
    "import tensorflow as tf\n",
    "from sklearn.preprocessing import LabelBinarizer\n",
    "\n",
    "\n",
    "\n",
    "%matplotlib inline"
   ]
  },
  {
   "cell_type": "code",
   "execution_count": 2,
   "metadata": {
    "collapsed": true,
    "deletable": true,
    "editable": true
   },
   "outputs": [],
   "source": [
    "#csv_path = 'fixed_labels.csv'\n",
    "csv_path = 'fixed_labels2.csv'\n",
    "data = pd.read_csv(csv_path,\n",
    "                         index_col = False)\n",
    "y_labels = []\n",
    "\n",
    "data.columns= ['filename', 'old_label', 'type']\n",
    "\n",
    "y_train = data[\"type\"]\n",
    "\n",
    "for i in range(len(y_train)):\n",
    "    y_labels.append(y_train[i])\n",
    "\n"
   ]
  },
  {
   "cell_type": "code",
   "execution_count": 9,
   "metadata": {
    "collapsed": false,
    "deletable": true,
    "editable": true,
    "scrolled": true
   },
   "outputs": [
    {
     "name": "stdout",
     "output_type": "stream",
     "text": [
      "(1481, 3)\n",
      "0       [1.0, 0.0, 0.0]\n",
      "1       [1.0, 0.0, 0.0]\n",
      "2       [1.0, 0.0, 0.0]\n",
      "3       [1.0, 0.0, 0.0]\n",
      "4       [1.0, 0.0, 0.0]\n",
      "5       [1.0, 0.0, 0.0]\n",
      "6       [1.0, 0.0, 0.0]\n",
      "7       [1.0, 0.0, 0.0]\n",
      "8       [1.0, 0.0, 0.0]\n",
      "9       [1.0, 0.0, 0.0]\n",
      "10      [1.0, 0.0, 0.0]\n",
      "11      [1.0, 0.0, 0.0]\n",
      "12      [1.0, 0.0, 0.0]\n",
      "13      [1.0, 0.0, 0.0]\n",
      "14      [1.0, 0.0, 0.0]\n",
      "15      [1.0, 0.0, 0.0]\n",
      "16      [1.0, 0.0, 0.0]\n",
      "17      [1.0, 0.0, 0.0]\n",
      "18      [1.0, 0.0, 0.0]\n",
      "19      [1.0, 0.0, 0.0]\n",
      "20      [1.0, 0.0, 0.0]\n",
      "21      [1.0, 0.0, 0.0]\n",
      "22      [1.0, 0.0, 0.0]\n",
      "23      [1.0, 0.0, 0.0]\n",
      "24      [1.0, 0.0, 0.0]\n",
      "25      [1.0, 0.0, 0.0]\n",
      "26      [1.0, 0.0, 0.0]\n",
      "27      [1.0, 0.0, 0.0]\n",
      "28      [1.0, 0.0, 0.0]\n",
      "29      [1.0, 0.0, 0.0]\n",
      "             ...       \n",
      "1451    [0.0, 0.0, 1.0]\n",
      "1452    [0.0, 0.0, 1.0]\n",
      "1453    [0.0, 0.0, 1.0]\n",
      "1454    [0.0, 0.0, 1.0]\n",
      "1455    [0.0, 0.0, 1.0]\n",
      "1456    [0.0, 0.0, 1.0]\n",
      "1457    [0.0, 0.0, 1.0]\n",
      "1458    [0.0, 0.0, 1.0]\n",
      "1459    [0.0, 0.0, 1.0]\n",
      "1460    [0.0, 0.0, 1.0]\n",
      "1461    [0.0, 0.0, 1.0]\n",
      "1462    [0.0, 0.0, 1.0]\n",
      "1463    [0.0, 0.0, 1.0]\n",
      "1464    [0.0, 0.0, 1.0]\n",
      "1465    [0.0, 0.0, 1.0]\n",
      "1466    [0.0, 0.0, 1.0]\n",
      "1467    [0.0, 0.0, 1.0]\n",
      "1468    [0.0, 0.0, 1.0]\n",
      "1469    [0.0, 0.0, 1.0]\n",
      "1470    [0.0, 0.0, 1.0]\n",
      "1471    [0.0, 0.0, 1.0]\n",
      "1472    [0.0, 0.0, 1.0]\n",
      "1473    [0.0, 0.0, 1.0]\n",
      "1474    [0.0, 0.0, 1.0]\n",
      "1475    [0.0, 0.0, 1.0]\n",
      "1476    [0.0, 0.0, 1.0]\n",
      "1477    [0.0, 0.0, 1.0]\n",
      "1478    [0.0, 0.0, 1.0]\n",
      "1479    [0.0, 0.0, 1.0]\n",
      "1480    [0.0, 0.0, 1.0]\n",
      "Name: one_hot, dtype: object\n"
     ]
    }
   ],
   "source": [
    "# Turn labels into numbers and apply One-Hot Encoding\n",
    "encoder = LabelBinarizer()\n",
    "encoder.fit(y_labels)\n",
    "y_train = encoder.transform(y_labels)\n",
    "#y_test = encoder.transform(y_test)\n",
    "\n",
    "# Change to float32, so it can be multiplied against the features in TensorFlow, which are float32\n",
    "y_train = y_train.astype(np.float32)\n",
    "print(y_train.shape)\n",
    "data[\"one_hot\"]= list(y_train)\n",
    "print(data[\"one_hot\"])\n"
   ]
  },
  {
   "cell_type": "code",
   "execution_count": 4,
   "metadata": {
    "collapsed": true,
    "deletable": true,
    "editable": true
   },
   "outputs": [],
   "source": [
    "def resize_image(image):\n",
    "    col = 500\n",
    "    row = 500\n",
    "    image = cv2.resize(image,(col,row), interpolation=cv2.INTER_AREA)    \n",
    "    return image"
   ]
  },
  {
   "cell_type": "code",
   "execution_count": 5,
   "metadata": {
    "collapsed": true,
    "deletable": true,
    "editable": true
   },
   "outputs": [],
   "source": [
    "def preprocess_train(image_name, type_cancer, one_hot):  \n",
    "    path_file = \"train/\"+type_cancer+\"/\"+image_name\n",
    "    #print(path_file)\n",
    "    image = mpimg.imread(path_file)\n",
    "    image = resize_image(image)\n",
    "    image = np.array(image)\n",
    "    #print(one_hot)\n",
    "    return image,one_hot"
   ]
  },
  {
   "cell_type": "code",
   "execution_count": 6,
   "metadata": {
    "collapsed": true,
    "deletable": true,
    "editable": true
   },
   "outputs": [],
   "source": [
    "new_size_row = 500\n",
    "new_size_col = 500\n",
    "def generate_train_batch(data,batch_size =64):\n",
    "    ## Generator for trainning data\n",
    "    batch_images = np.zeros((batch_size, new_size_row, new_size_col, 3))\n",
    "    batch_type = np.zeros(batch_size)\n",
    "    batch_type = []\n",
    "    \n",
    "    while 1:\n",
    "        for i_batch in range(batch_size):\n",
    "            i_line = np.random.randint(len(data))\n",
    "            image_name = data[\"filename\"][i_line]\n",
    "            type_cancer = data[\"type\"][i_line]            \n",
    "            one_hot = list(data[\"one_hot\"][i_line])   \n",
    "            x,y = preprocess_train(image_name, type_cancer, one_hot)\n",
    "            #print(type(y))\n",
    "            batch_images[i_batch] = x\n",
    "            batch_type.append(y)\n",
    "        \n",
    "        yield batch_images, np.array(batch_type)"
   ]
  },
  {
   "cell_type": "code",
   "execution_count": 7,
   "metadata": {
    "collapsed": true,
    "deletable": true,
    "editable": true
   },
   "outputs": [],
   "source": [
    "#x_sample_batch,y_sample_batch = next(generate_train_batch(data))\n",
    "#plt.imshow(x_sample_batch[0])\n",
    "#plt.show()"
   ]
  },
  {
   "cell_type": "code",
   "execution_count": 8,
   "metadata": {
    "collapsed": false,
    "deletable": true,
    "editable": true
   },
   "outputs": [
    {
     "name": "stdout",
     "output_type": "stream",
     "text": [
      "WARNING:tensorflow:From <ipython-input-8-3cac286cf6f4>:61 in train_neural_netwrok.: initialize_all_variables (from tensorflow.python.ops.variables) is deprecated and will be removed after 2017-03-02.\n",
      "Instructions for updating:\n",
      "Use `tf.global_variables_initializer` instead.\n",
      "Epoch 0 completed out of 10, with epoch_loss 415339520.0\n",
      "Epoch 1 completed out of 10, with epoch_loss 1590266112.0\n",
      "Epoch 2 completed out of 10, with epoch_loss 2669274752.0\n",
      "Epoch 3 completed out of 10, with epoch_loss 2852909824.0\n",
      "Epoch 4 completed out of 10, with epoch_loss 3076923488.0\n",
      "Epoch 5 completed out of 10, with epoch_loss 3473048896.0\n",
      "Epoch 6 completed out of 10, with epoch_loss 3777680896.0\n"
     ]
    },
    {
     "ename": "KeyboardInterrupt",
     "evalue": "",
     "output_type": "error",
     "traceback": [
      "\u001b[0;31m---------------------------------------------------------------------------\u001b[0m",
      "\u001b[0;31mKeyboardInterrupt\u001b[0m                         Traceback (most recent call last)",
      "\u001b[0;32m<ipython-input-8-3cac286cf6f4>\u001b[0m in \u001b[0;36m<module>\u001b[0;34m()\u001b[0m\n\u001b[1;32m     84\u001b[0m         \u001b[0;31m#print (\"Accuracy : %s\" %(accuracy.eval({x:mnist.test.images,y:mnist.test.labels})))\u001b[0m\u001b[0;34m\u001b[0m\u001b[0;34m\u001b[0m\u001b[0m\n\u001b[1;32m     85\u001b[0m \u001b[0;34m\u001b[0m\u001b[0m\n\u001b[0;32m---> 86\u001b[0;31m \u001b[0mtrain_neural_netwrok\u001b[0m\u001b[0;34m(\u001b[0m\u001b[0mx\u001b[0m\u001b[0;34m)\u001b[0m\u001b[0;34m\u001b[0m\u001b[0m\n\u001b[0m",
      "\u001b[0;32m<ipython-input-8-3cac286cf6f4>\u001b[0m in \u001b[0;36mtrain_neural_netwrok\u001b[0;34m(x)\u001b[0m\n\u001b[1;32m     64\u001b[0m         \u001b[0mepoch_loss\u001b[0m \u001b[0;34m=\u001b[0m \u001b[0;36m0\u001b[0m\u001b[0;34m\u001b[0m\u001b[0m\n\u001b[1;32m     65\u001b[0m         \u001b[0;32mfor\u001b[0m \u001b[0mepoch\u001b[0m \u001b[0;32min\u001b[0m \u001b[0mrange\u001b[0m\u001b[0;34m(\u001b[0m\u001b[0mnum_epochs\u001b[0m\u001b[0;34m)\u001b[0m\u001b[0;34m:\u001b[0m\u001b[0;34m\u001b[0m\u001b[0m\n\u001b[0;32m---> 66\u001b[0;31m             \u001b[0mepoch_x\u001b[0m\u001b[0;34m,\u001b[0m\u001b[0mepoch_y\u001b[0m \u001b[0;34m=\u001b[0m \u001b[0mnext\u001b[0m\u001b[0;34m(\u001b[0m\u001b[0mgenerate_train_batch\u001b[0m\u001b[0;34m(\u001b[0m\u001b[0mdata\u001b[0m\u001b[0;34m,\u001b[0m\u001b[0mbatch_size\u001b[0m\u001b[0;34m)\u001b[0m\u001b[0;34m)\u001b[0m\u001b[0;34m\u001b[0m\u001b[0m\n\u001b[0m\u001b[1;32m     67\u001b[0m             \u001b[0;31m#print(epoch_x.shape, epoch_y.shape)\u001b[0m\u001b[0;34m\u001b[0m\u001b[0;34m\u001b[0m\u001b[0m\n\u001b[1;32m     68\u001b[0m             \u001b[0;31m#epoch_x.flatten()\u001b[0m\u001b[0;34m\u001b[0m\u001b[0;34m\u001b[0m\u001b[0m\n",
      "\u001b[0;32m<ipython-input-6-8f905cc3cb12>\u001b[0m in \u001b[0;36mgenerate_train_batch\u001b[0;34m(data, batch_size)\u001b[0m\n\u001b[1;32m     13\u001b[0m             \u001b[0mtype_cancer\u001b[0m \u001b[0;34m=\u001b[0m \u001b[0mdata\u001b[0m\u001b[0;34m[\u001b[0m\u001b[0;34m\"type\"\u001b[0m\u001b[0;34m]\u001b[0m\u001b[0;34m[\u001b[0m\u001b[0mi_line\u001b[0m\u001b[0;34m]\u001b[0m\u001b[0;34m\u001b[0m\u001b[0m\n\u001b[1;32m     14\u001b[0m             \u001b[0mone_hot\u001b[0m \u001b[0;34m=\u001b[0m \u001b[0mlist\u001b[0m\u001b[0;34m(\u001b[0m\u001b[0mdata\u001b[0m\u001b[0;34m[\u001b[0m\u001b[0;34m\"one_hot\"\u001b[0m\u001b[0;34m]\u001b[0m\u001b[0;34m[\u001b[0m\u001b[0mi_line\u001b[0m\u001b[0;34m]\u001b[0m\u001b[0;34m)\u001b[0m\u001b[0;34m\u001b[0m\u001b[0m\n\u001b[0;32m---> 15\u001b[0;31m             \u001b[0mx\u001b[0m\u001b[0;34m,\u001b[0m\u001b[0my\u001b[0m \u001b[0;34m=\u001b[0m \u001b[0mpreprocess_train\u001b[0m\u001b[0;34m(\u001b[0m\u001b[0mimage_name\u001b[0m\u001b[0;34m,\u001b[0m \u001b[0mtype_cancer\u001b[0m\u001b[0;34m,\u001b[0m \u001b[0mone_hot\u001b[0m\u001b[0;34m)\u001b[0m\u001b[0;34m\u001b[0m\u001b[0m\n\u001b[0m\u001b[1;32m     16\u001b[0m             \u001b[0;31m#print(type(y))\u001b[0m\u001b[0;34m\u001b[0m\u001b[0;34m\u001b[0m\u001b[0m\n\u001b[1;32m     17\u001b[0m             \u001b[0mbatch_images\u001b[0m\u001b[0;34m[\u001b[0m\u001b[0mi_batch\u001b[0m\u001b[0;34m]\u001b[0m \u001b[0;34m=\u001b[0m \u001b[0mx\u001b[0m\u001b[0;34m\u001b[0m\u001b[0m\n",
      "\u001b[0;32m<ipython-input-5-eaf73530bc94>\u001b[0m in \u001b[0;36mpreprocess_train\u001b[0;34m(image_name, type_cancer, one_hot)\u001b[0m\n\u001b[1;32m      2\u001b[0m     \u001b[0mpath_file\u001b[0m \u001b[0;34m=\u001b[0m \u001b[0;34m\"train/\"\u001b[0m\u001b[0;34m+\u001b[0m\u001b[0mtype_cancer\u001b[0m\u001b[0;34m+\u001b[0m\u001b[0;34m\"/\"\u001b[0m\u001b[0;34m+\u001b[0m\u001b[0mimage_name\u001b[0m\u001b[0;34m\u001b[0m\u001b[0m\n\u001b[1;32m      3\u001b[0m     \u001b[0;31m#print(path_file)\u001b[0m\u001b[0;34m\u001b[0m\u001b[0;34m\u001b[0m\u001b[0m\n\u001b[0;32m----> 4\u001b[0;31m     \u001b[0mimage\u001b[0m \u001b[0;34m=\u001b[0m \u001b[0mmpimg\u001b[0m\u001b[0;34m.\u001b[0m\u001b[0mimread\u001b[0m\u001b[0;34m(\u001b[0m\u001b[0mpath_file\u001b[0m\u001b[0;34m)\u001b[0m\u001b[0;34m\u001b[0m\u001b[0m\n\u001b[0m\u001b[1;32m      5\u001b[0m     \u001b[0mimage\u001b[0m \u001b[0;34m=\u001b[0m \u001b[0mresize_image\u001b[0m\u001b[0;34m(\u001b[0m\u001b[0mimage\u001b[0m\u001b[0;34m)\u001b[0m\u001b[0;34m\u001b[0m\u001b[0m\n\u001b[1;32m      6\u001b[0m     \u001b[0mimage\u001b[0m \u001b[0;34m=\u001b[0m \u001b[0mnp\u001b[0m\u001b[0;34m.\u001b[0m\u001b[0marray\u001b[0m\u001b[0;34m(\u001b[0m\u001b[0mimage\u001b[0m\u001b[0;34m)\u001b[0m\u001b[0;34m\u001b[0m\u001b[0m\n",
      "\u001b[0;32m/home/ggonzalez/anaconda3/envs/carnd-term1/lib/python3.5/site-packages/matplotlib/image.py\u001b[0m in \u001b[0;36mimread\u001b[0;34m(fname, format)\u001b[0m\n\u001b[1;32m   1225\u001b[0m \u001b[0;34m\u001b[0m\u001b[0m\n\u001b[1;32m   1226\u001b[0m     \u001b[0;32mif\u001b[0m \u001b[0mext\u001b[0m \u001b[0;32mnot\u001b[0m \u001b[0;32min\u001b[0m \u001b[0mhandlers\u001b[0m\u001b[0;34m:\u001b[0m\u001b[0;34m\u001b[0m\u001b[0m\n\u001b[0;32m-> 1227\u001b[0;31m         \u001b[0mim\u001b[0m \u001b[0;34m=\u001b[0m \u001b[0mpilread\u001b[0m\u001b[0;34m(\u001b[0m\u001b[0mfname\u001b[0m\u001b[0;34m)\u001b[0m\u001b[0;34m\u001b[0m\u001b[0m\n\u001b[0m\u001b[1;32m   1228\u001b[0m         \u001b[0;32mif\u001b[0m \u001b[0mim\u001b[0m \u001b[0;32mis\u001b[0m \u001b[0;32mNone\u001b[0m\u001b[0;34m:\u001b[0m\u001b[0;34m\u001b[0m\u001b[0m\n\u001b[1;32m   1229\u001b[0m             raise ValueError('Only know how to handle extensions: %s; '\n",
      "\u001b[0;32m/home/ggonzalez/anaconda3/envs/carnd-term1/lib/python3.5/site-packages/matplotlib/image.py\u001b[0m in \u001b[0;36mpilread\u001b[0;34m(fname)\u001b[0m\n\u001b[1;32m   1204\u001b[0m             \u001b[0;32mreturn\u001b[0m \u001b[0;32mNone\u001b[0m\u001b[0;34m\u001b[0m\u001b[0m\n\u001b[1;32m   1205\u001b[0m         \u001b[0;32mwith\u001b[0m \u001b[0mImage\u001b[0m\u001b[0;34m.\u001b[0m\u001b[0mopen\u001b[0m\u001b[0;34m(\u001b[0m\u001b[0mfname\u001b[0m\u001b[0;34m)\u001b[0m \u001b[0;32mas\u001b[0m \u001b[0mimage\u001b[0m\u001b[0;34m:\u001b[0m\u001b[0;34m\u001b[0m\u001b[0m\n\u001b[0;32m-> 1206\u001b[0;31m             \u001b[0;32mreturn\u001b[0m \u001b[0mpil_to_array\u001b[0m\u001b[0;34m(\u001b[0m\u001b[0mimage\u001b[0m\u001b[0;34m)\u001b[0m\u001b[0;34m\u001b[0m\u001b[0m\n\u001b[0m\u001b[1;32m   1207\u001b[0m \u001b[0;34m\u001b[0m\u001b[0m\n\u001b[1;32m   1208\u001b[0m     \u001b[0mhandlers\u001b[0m \u001b[0;34m=\u001b[0m \u001b[0;34m{\u001b[0m\u001b[0;34m'png'\u001b[0m\u001b[0;34m:\u001b[0m \u001b[0m_png\u001b[0m\u001b[0;34m.\u001b[0m\u001b[0mread_png\u001b[0m\u001b[0;34m,\u001b[0m \u001b[0;34m}\u001b[0m\u001b[0;34m\u001b[0m\u001b[0m\n",
      "\u001b[0;32m/home/ggonzalez/anaconda3/envs/carnd-term1/lib/python3.5/site-packages/matplotlib/image.py\u001b[0m in \u001b[0;36mpil_to_array\u001b[0;34m(pilImage)\u001b[0m\n\u001b[1;32m   1330\u001b[0m         \u001b[0;31m# return MxNx3 RGB array\u001b[0m\u001b[0;34m\u001b[0m\u001b[0;34m\u001b[0m\u001b[0m\n\u001b[1;32m   1331\u001b[0m         \u001b[0mim\u001b[0m \u001b[0;34m=\u001b[0m \u001b[0mpilImage\u001b[0m  \u001b[0;31m# no need to RGB images\u001b[0m\u001b[0;34m\u001b[0m\u001b[0m\n\u001b[0;32m-> 1332\u001b[0;31m         \u001b[0mx\u001b[0m \u001b[0;34m=\u001b[0m \u001b[0mtoarray\u001b[0m\u001b[0;34m(\u001b[0m\u001b[0mim\u001b[0m\u001b[0;34m)\u001b[0m\u001b[0;34m\u001b[0m\u001b[0m\n\u001b[0m\u001b[1;32m   1333\u001b[0m         \u001b[0mx\u001b[0m\u001b[0;34m.\u001b[0m\u001b[0mshape\u001b[0m \u001b[0;34m=\u001b[0m \u001b[0mim\u001b[0m\u001b[0;34m.\u001b[0m\u001b[0msize\u001b[0m\u001b[0;34m[\u001b[0m\u001b[0;36m1\u001b[0m\u001b[0;34m]\u001b[0m\u001b[0;34m,\u001b[0m \u001b[0mim\u001b[0m\u001b[0;34m.\u001b[0m\u001b[0msize\u001b[0m\u001b[0;34m[\u001b[0m\u001b[0;36m0\u001b[0m\u001b[0;34m]\u001b[0m\u001b[0;34m,\u001b[0m \u001b[0;36m3\u001b[0m\u001b[0;34m\u001b[0m\u001b[0m\n\u001b[1;32m   1334\u001b[0m         \u001b[0;32mreturn\u001b[0m \u001b[0mx\u001b[0m\u001b[0;34m\u001b[0m\u001b[0m\n",
      "\u001b[0;32m/home/ggonzalez/anaconda3/envs/carnd-term1/lib/python3.5/site-packages/matplotlib/image.py\u001b[0m in \u001b[0;36mtoarray\u001b[0;34m(im, dtype)\u001b[0m\n\u001b[1;32m   1313\u001b[0m         \u001b[0;31m# Pillow wants us to use \"tobytes\"\u001b[0m\u001b[0;34m\u001b[0m\u001b[0;34m\u001b[0m\u001b[0m\n\u001b[1;32m   1314\u001b[0m         \u001b[0;32mif\u001b[0m \u001b[0mhasattr\u001b[0m\u001b[0;34m(\u001b[0m\u001b[0mim\u001b[0m\u001b[0;34m,\u001b[0m \u001b[0;34m'tobytes'\u001b[0m\u001b[0;34m)\u001b[0m\u001b[0;34m:\u001b[0m\u001b[0;34m\u001b[0m\u001b[0m\n\u001b[0;32m-> 1315\u001b[0;31m             \u001b[0mx_str\u001b[0m \u001b[0;34m=\u001b[0m \u001b[0mim\u001b[0m\u001b[0;34m.\u001b[0m\u001b[0mtobytes\u001b[0m\u001b[0;34m(\u001b[0m\u001b[0;34m'raw'\u001b[0m\u001b[0;34m,\u001b[0m \u001b[0mim\u001b[0m\u001b[0;34m.\u001b[0m\u001b[0mmode\u001b[0m\u001b[0;34m)\u001b[0m\u001b[0;34m\u001b[0m\u001b[0m\n\u001b[0m\u001b[1;32m   1316\u001b[0m         \u001b[0;32melse\u001b[0m\u001b[0;34m:\u001b[0m\u001b[0;34m\u001b[0m\u001b[0m\n\u001b[1;32m   1317\u001b[0m             \u001b[0mx_str\u001b[0m \u001b[0;34m=\u001b[0m \u001b[0mim\u001b[0m\u001b[0;34m.\u001b[0m\u001b[0mtostring\u001b[0m\u001b[0;34m(\u001b[0m\u001b[0;34m'raw'\u001b[0m\u001b[0;34m,\u001b[0m \u001b[0mim\u001b[0m\u001b[0;34m.\u001b[0m\u001b[0mmode\u001b[0m\u001b[0;34m)\u001b[0m\u001b[0;34m\u001b[0m\u001b[0m\n",
      "\u001b[0;32m/home/ggonzalez/anaconda3/envs/carnd-term1/lib/python3.5/site-packages/PIL/Image.py\u001b[0m in \u001b[0;36mtobytes\u001b[0;34m(self, encoder_name, *args)\u001b[0m\n\u001b[1;32m    674\u001b[0m             \u001b[0margs\u001b[0m \u001b[0;34m=\u001b[0m \u001b[0mself\u001b[0m\u001b[0;34m.\u001b[0m\u001b[0mmode\u001b[0m\u001b[0;34m\u001b[0m\u001b[0m\n\u001b[1;32m    675\u001b[0m \u001b[0;34m\u001b[0m\u001b[0m\n\u001b[0;32m--> 676\u001b[0;31m         \u001b[0mself\u001b[0m\u001b[0;34m.\u001b[0m\u001b[0mload\u001b[0m\u001b[0;34m(\u001b[0m\u001b[0;34m)\u001b[0m\u001b[0;34m\u001b[0m\u001b[0m\n\u001b[0m\u001b[1;32m    677\u001b[0m \u001b[0;34m\u001b[0m\u001b[0m\n\u001b[1;32m    678\u001b[0m         \u001b[0;31m# unpack data\u001b[0m\u001b[0;34m\u001b[0m\u001b[0;34m\u001b[0m\u001b[0m\n",
      "\u001b[0;32m/home/ggonzalez/anaconda3/envs/carnd-term1/lib/python3.5/site-packages/PIL/ImageFile.py\u001b[0m in \u001b[0;36mload\u001b[0;34m(self)\u001b[0m\n\u001b[1;32m    227\u001b[0m \u001b[0;34m\u001b[0m\u001b[0m\n\u001b[1;32m    228\u001b[0m                         \u001b[0mb\u001b[0m \u001b[0;34m=\u001b[0m \u001b[0mb\u001b[0m \u001b[0;34m+\u001b[0m \u001b[0ms\u001b[0m\u001b[0;34m\u001b[0m\u001b[0m\n\u001b[0;32m--> 229\u001b[0;31m                         \u001b[0mn\u001b[0m\u001b[0;34m,\u001b[0m \u001b[0merr_code\u001b[0m \u001b[0;34m=\u001b[0m \u001b[0mdecoder\u001b[0m\u001b[0;34m.\u001b[0m\u001b[0mdecode\u001b[0m\u001b[0;34m(\u001b[0m\u001b[0mb\u001b[0m\u001b[0;34m)\u001b[0m\u001b[0;34m\u001b[0m\u001b[0m\n\u001b[0m\u001b[1;32m    230\u001b[0m                         \u001b[0;32mif\u001b[0m \u001b[0mn\u001b[0m \u001b[0;34m<\u001b[0m \u001b[0;36m0\u001b[0m\u001b[0;34m:\u001b[0m\u001b[0;34m\u001b[0m\u001b[0m\n\u001b[1;32m    231\u001b[0m                             \u001b[0;32mbreak\u001b[0m\u001b[0;34m\u001b[0m\u001b[0m\n",
      "\u001b[0;31mKeyboardInterrupt\u001b[0m: "
     ]
    }
   ],
   "source": [
    "n_nodes_hl1 = 500\n",
    "n_nodes_hl2 = 500\n",
    "n_nodes_hl3 = 500\n",
    "n_classes = 3\n",
    "batch_size = 64\n",
    "num_epochs = 10\n",
    "input_data_size = 750000\n",
    "\n",
    "\"\"\" place holder for input and output values \"\"\"\n",
    "x = tf.placeholder('float',[None,input_data_size])\n",
    "y = tf.placeholder('float')\n",
    "\n",
    "\"\"\" Model the neural network\"\"\"\n",
    "def neural_network_model(data):\n",
    "    \n",
    "    \"\"\"output = (input_data * weights) + biases\n",
    "\t\n",
    "\tW has a shape of [784, 10] because we want\n",
    "\tto multiply the 784-dimensional image vectors by it \n",
    "\tto produce 10-dimensional vectors of evidence for the difference classes.\n",
    "\t\n",
    "\tb has a shape of [10] so we can add it to the output.\"\"\"\n",
    "    \n",
    "    hidden_layer_1 = {\"weights\":tf.Variable(tf.random_normal([input_data_size,n_nodes_hl1])),\n",
    "                      \"biases\":tf.Variable(tf.random_normal([n_nodes_hl1]))}\n",
    "    hidden_layer_2 = {\"weights\":tf.Variable(tf.random_normal([n_nodes_hl1,n_nodes_hl2])),\n",
    "                      \"biases\":tf.Variable(tf.random_normal([n_nodes_hl2]))}\n",
    "    hidden_layer_3 = {\"weights\":tf.Variable(tf.random_normal([n_nodes_hl2,n_nodes_hl3])),\n",
    "                      \"biases\":tf.Variable(tf.random_normal([n_nodes_hl3]))}\n",
    "    output_layer = {\"weights\":tf.Variable(tf.random_normal([n_nodes_hl3,n_classes])),\n",
    "                      \"biases\":tf.Variable(tf.random_normal([n_classes]))}\n",
    "    \n",
    "    \"\"\" For each neuron in hidden layer:\n",
    "        output = activation(sum((input*weight)) + biases)\n",
    "        Hidden layer 1 takes actual input data, add it's weight\n",
    "        and biases, and send the output to second layer and so on. \n",
    "        Output of hidden layer 3 will be fed to output layer \n",
    "\t\trelu - Activation funtion, Computes rectified linear: max(features, 0)\n",
    "    \"\"\"\n",
    "    output_hl1 = tf.add(tf.matmul(data,hidden_layer_1['weights']),hidden_layer_1['biases'])\n",
    "    output_hl1 = tf.nn.relu(output_hl1)\n",
    "    \n",
    "    output_hl2 = tf.add(tf.matmul(output_hl1,hidden_layer_2['weights']),hidden_layer_2['biases'])\n",
    "    output_hl2 = tf.nn.relu(output_hl2)\n",
    "    \n",
    "    output_hl3 = tf.add(tf.matmul(output_hl2,hidden_layer_3['weights']),hidden_layer_3['biases'])\n",
    "    output_hl3 = tf.nn.relu(output_hl3)\n",
    "    \n",
    "    \"\"\" For each neuron in output layer:\n",
    "        output = (input*weight) + biases\"\"\"\n",
    "    output = tf.add(tf.matmul(output_hl3,output_layer['weights']),output_layer['biases'])\n",
    "    \n",
    "    return output\n",
    "    \n",
    "def train_neural_netwrok(x):\n",
    "    prediction = neural_network_model(x)\n",
    "    cost = tf.reduce_mean(tf.nn.softmax_cross_entropy_with_logits(logits=prediction,labels=y))\n",
    "    optimizer = tf.train.AdamOptimizer().minimize(cost)\n",
    "    \n",
    "    with tf.Session() as sess:\n",
    "        sess.run(tf.initialize_all_variables())\n",
    "        \n",
    "        \"\"\" Training the netwrok to optimize the weights \"\"\"\n",
    "        epoch_loss = 0\n",
    "        for epoch in range(num_epochs):\n",
    "            epoch_x,epoch_y = next(generate_train_batch(data,batch_size))\n",
    "            #print(epoch_x.shape, epoch_y.shape)\n",
    "            #epoch_x.flatten()\n",
    "            \n",
    "            epoch_x= epoch_x.reshape(batch_size, -1)\n",
    "            epoch_y = epoch_y.reshape(batch_size,-1)\n",
    "            #print(epoch_y)\n",
    "            _,c = sess.run([optimizer,cost], feed_dict={x:epoch_x,y:epoch_y})\n",
    "            epoch_loss += c\n",
    "            print (\"Epoch %s completed out of %s, with epoch_loss %s\" %(epoch,num_epochs,epoch_loss))\n",
    "        \n",
    "        \"\"\" \n",
    "        After optimizing weights, run them through our model,\n",
    "        and compare the prediction to actual label, and evaluate the\n",
    "        accuracy of all the test data\n",
    "        \"\"\"\n",
    "        correct = tf.equal(tf.argmax(prediction,1),tf.argmax(y,1))\n",
    "        accuracy = tf.reduce_mean(tf.cast(correct,'float'))\n",
    "        print (\"Accuracy : %s\" %(accuracy.eval({x:mnist.test.images,y:mnist.test.labels})))\n",
    "\n",
    "train_neural_netwrok(x)"
   ]
  },
  {
   "cell_type": "code",
   "execution_count": null,
   "metadata": {
    "collapsed": true,
    "deletable": true,
    "editable": true
   },
   "outputs": [],
   "source": []
  },
  {
   "cell_type": "code",
   "execution_count": null,
   "metadata": {
    "collapsed": true,
    "deletable": true,
    "editable": true
   },
   "outputs": [],
   "source": []
  }
 ],
 "metadata": {
  "kernelspec": {
   "display_name": "Python 3",
   "language": "python",
   "name": "python3"
  },
  "language_info": {
   "codemirror_mode": {
    "name": "ipython",
    "version": 3
   },
   "file_extension": ".py",
   "mimetype": "text/x-python",
   "name": "python",
   "nbconvert_exporter": "python",
   "pygments_lexer": "ipython3",
   "version": "3.5.2"
  },
  "widgets": {
   "state": {},
   "version": "1.1.2"
  }
 },
 "nbformat": 4,
 "nbformat_minor": 2
}
